{
 "cells": [
  {
   "cell_type": "raw",
   "id": "530db57f",
   "metadata": {},
   "source": [
    "Q1. What is the difference between __getattr__ and __getattribute__?\n",
    "ans- getattribute: Is used to retrieve an attribute from an instance. It captures every attempt to access an instance attribute by using dot notation or getattr() built-in function. getattr: Is executed as the last resource when attribute is not found in an object."
   ]
  },
  {
   "cell_type": "raw",
   "id": "ab0a0d48",
   "metadata": {},
   "source": [
    "Q2. What is the difference between properties and descriptors?\n",
    "ans-  descriptors are a low-level mechanism that lets you hook into an object's attributes being accessed. Properties are a high-level application of this; that is, properties are implemented using descriptors."
   ]
  },
  {
   "cell_type": "raw",
   "id": "29123afc",
   "metadata": {},
   "source": [
    "Q3. What are the key differences in functionality between __getattr__ and __getattribute__, as well as\n",
    "properties and descriptors?\n",
    "ans- A key difference between __getattr__ and __getattribute__ is that __getattr__ is only invoked if the attribute wasn't found the usual ways. It's good for implementing a fallback for missing attributes, and is probably the one of two you want.\n",
    "properties-Python's property() is the Pythonic way to avoid formal getter and setter methods in your code. This function allows you to turn class attributes into properties or managed attributes. Since property() is a built-in function, you can use it without importing anything.\n",
    "discriptor-It's just a basic storage system. Sometimes, You might need to validate the values that are being assigned to a value. A descriptor is a mechanism behind properties, methods, static methods, class methods, and super() .\n"
   ]
  }
 ],
 "metadata": {
  "kernelspec": {
   "display_name": "Python 3 (ipykernel)",
   "language": "python",
   "name": "python3"
  },
  "language_info": {
   "codemirror_mode": {
    "name": "ipython",
    "version": 3
   },
   "file_extension": ".py",
   "mimetype": "text/x-python",
   "name": "python",
   "nbconvert_exporter": "python",
   "pygments_lexer": "ipython3",
   "version": "3.9.7"
  }
 },
 "nbformat": 4,
 "nbformat_minor": 5
}
